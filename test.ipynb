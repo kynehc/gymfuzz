{
 "cells": [
  {
   "cell_type": "code",
   "execution_count": 1,
   "id": "207fc780",
   "metadata": {},
   "outputs": [
    {
     "name": "stderr",
     "output_type": "stream",
     "text": [
      "/home/yikang/miniconda3/envs/gymfuzz/lib/python3.7/site-packages/gym/envs/registration.py:14: PkgResourcesDeprecationWarning: Parameters to load are deprecated.  Call .resolve and .require separately.\n",
      "  result = entry_point.load(False)\n"
     ]
    },
    {
     "name": "stdout",
     "output_type": "stream",
     "text": [
      "Starting afl-forkserver...\n",
      "['/home/yikang/fuzz/project/gymfuzz/gymfuzz/mods/afl-2.52b-mod/afl-2.52b/afl-forkserver', '-f', '/tmp/tmpvw_omn6kafl_out_file', '--', '/home/yikang/fuzz/project/gymfuzz/gymfuzz/mods/simple_bits-mod/simple_bits_afl', '@@']\n",
      "dict_size=257 eof=256\n"
     ]
    }
   ],
   "source": [
    "import gym\n",
    "import gymfuzz.coverage as coverage\n",
    "import numpy as np\n",
    "\n",
    "env = gym.make('FuzzSimpleBits-v0')\n",
    "print(\"dict_size={} eof={}\".format(env.dict_size(), env.eof()))\n",
    "\n",
    "env.reset()\n",
    "c = coverage.Coverage()"
   ]
  },
  {
   "cell_type": "code",
   "execution_count": 2,
   "id": "2e021b05",
   "metadata": {},
   "outputs": [
    {
     "name": "stdout",
     "output_type": "stream",
     "text": [
      "[1, 256, 0, 0, 0, 0, 0, 0, 0, 0, 0, 0, 0, 0, 0, 0, 0, 0, 0, 0, 0, 0, 0, 0, 0, 0, 0, 0, 0, 0, 0, 0, 0, 0, 0, 0, 0, 0, 0, 0, 0, 0, 0, 0, 0, 0, 0, 0, 0, 0, 0, 0, 0, 0, 0, 0, 0, 0, 0, 0, 0, 0, 0, 0]\n",
      "STEP: reward=11 done=False step=1/11/0 total=1/11/0 sum=1/11/0 action=[1 : b'\\xb2\\x01']\n",
      "[178, 1, 256, 0, 0, 0, 0, 0, 0, 0, 0, 0, 0, 0, 0, 0, 0, 0, 0, 0, 0, 0, 0, 0, 0, 0, 0, 0, 0, 0, 0, 0, 0, 0, 0, 0, 0, 0, 0, 0, 0, 0, 0, 0, 0, 0, 0, 0, 0, 0, 0, 0, 0, 0, 0, 0, 0, 0, 0, 0, 0, 0, 0, 0]\n",
      "STEP: reward=11 done=True step=1/11/0 total=1/11/0 sum=1/11/0 action=[8 : b'\\xb2\\x01']\n",
      "DONE!\n",
      "[178, 1, 256, 0, 0, 0, 0, 0, 0, 0, 0, 0, 0, 0, 0, 0, 0, 0, 0, 0, 0, 0, 0, 0, 0, 0, 0, 0, 0, 0, 0, 0, 0, 0, 0, 0, 0, 0, 0, 0, 0, 0, 0, 0, 0, 0, 0, 0, 0, 0, 0, 0, 0, 0, 0, 0, 0, 0, 0, 0, 0, 0, 0, 0]\n",
      "STEP: reward=11 done=False step=1/11/0 total=1/11/0 sum=1/11/0 action=[8 : b'\\xb2\\x01']\n",
      "[178, 1, 256, 0, 0, 0, 0, 0, 0, 0, 0, 0, 0, 0, 0, 0, 0, 0, 0, 0, 0, 0, 0, 0, 0, 0, 0, 0, 0, 0, 0, 0, 0, 0, 0, 0, 0, 0, 0, 0, 0, 0, 0, 0, 0, 0, 0, 0, 0, 0, 0, 0, 0, 0, 0, 0, 0, 0, 0, 0, 0, 0, 0, 0]\n",
      "STEP: reward=11 done=True step=1/11/0 total=1/11/0 sum=1/11/0 action=[7 : b'\\xb2\\xfd']\n",
      "DONE!\n",
      "[178, 253, 256, 0, 0, 0, 0, 0, 0, 0, 0, 0, 0, 0, 0, 0, 0, 0, 0, 0, 0, 0, 0, 0, 0, 0, 0, 0, 0, 0, 0, 0, 0, 0, 0, 0, 0, 0, 0, 0, 0, 0, 0, 0, 0, 0, 0, 0, 0, 0, 0, 0, 0, 0, 0, 0, 0, 0, 0, 0, 0, 0, 0, 0]\n",
      "STEP: reward=11 done=False step=1/11/0 total=1/11/0 sum=1/11/0 action=[7 : b'\\xb5\\xfd']\n",
      "[181, 253, 256, 0, 0, 0, 0, 0, 0, 0, 0, 0, 0, 0, 0, 0, 0, 0, 0, 0, 0, 0, 0, 0, 0, 0, 0, 0, 0, 0, 0, 0, 0, 0, 0, 0, 0, 0, 0, 0, 0, 0, 0, 0, 0, 0, 0, 0, 0, 0, 0, 0, 0, 0, 0, 0, 0, 0, 0, 0, 0, 0, 0, 0]\n",
      "STEP: reward=11 done=True step=1/11/0 total=1/11/0 sum=1/11/0 action=[3 : b'\\x93\\xfd']\n",
      "DONE!\n",
      "[147, 253, 256, 0, 0, 0, 0, 0, 0, 0, 0, 0, 0, 0, 0, 0, 0, 0, 0, 0, 0, 0, 0, 0, 0, 0, 0, 0, 0, 0, 0, 0, 0, 0, 0, 0, 0, 0, 0, 0, 0, 0, 0, 0, 0, 0, 0, 0, 0, 0, 0, 0, 0, 0, 0, 0, 0, 0, 0, 0, 0, 0, 0, 0]\n",
      "STEP: reward=11 done=False step=1/11/0 total=1/11/0 sum=1/11/0 action=[8 : b'\\x93\\x93\\xfd']\n",
      "[147, 147, 253, 256, 0, 0, 0, 0, 0, 0, 0, 0, 0, 0, 0, 0, 0, 0, 0, 0, 0, 0, 0, 0, 0, 0, 0, 0, 0, 0, 0, 0, 0, 0, 0, 0, 0, 0, 0, 0, 0, 0, 0, 0, 0, 0, 0, 0, 0, 0, 0, 0, 0, 0, 0, 0, 0, 0, 0, 0, 0, 0, 0, 0]\n",
      "STEP: reward=11 done=True step=1/11/0 total=1/11/0 sum=1/11/0 action=[6 : b'\\x93\\x93\\xfd']\n",
      "DONE!\n",
      "[147, 147, 253, 256, 0, 0, 0, 0, 0, 0, 0, 0, 0, 0, 0, 0, 0, 0, 0, 0, 0, 0, 0, 0, 0, 0, 0, 0, 0, 0, 0, 0, 0, 0, 0, 0, 0, 0, 0, 0, 0, 0, 0, 0, 0, 0, 0, 0, 0, 0, 0, 0, 0, 0, 0, 0, 0, 0, 0, 0, 0, 0, 0, 0]\n",
      "STEP: reward=11 done=False step=1/11/0 total=1/11/0 sum=1/11/0 action=[5 : b'\\x93\\x93\\xfd']\n",
      "[147, 147, 253, 256, 0, 0, 0, 0, 0, 0, 0, 0, 0, 0, 0, 0, 0, 0, 0, 0, 0, 0, 0, 0, 0, 0, 0, 0, 0, 0, 0, 0, 0, 0, 0, 0, 0, 0, 0, 0, 0, 0, 0, 0, 0, 0, 0, 0, 0, 0, 0, 0, 0, 0, 0, 0, 0, 0, 0, 0, 0, 0, 0, 0]\n",
      "STEP: reward=11 done=True step=1/11/0 total=1/11/0 sum=1/11/0 action=[6 : b'\\x93\\x93\\xfd']\n",
      "DONE!\n"
     ]
    }
   ],
   "source": [
    "input_seed = [1, 256] + [0] * 62\n",
    "\n",
    "env.last_obs = input_seed\n",
    "\n",
    "for i in range(10):\n",
    "    print(env.last_obs)\n",
    "    action = np.random.randint(0, 9)\n",
    "    obs, reward, done, info = env.step(action)\n",
    "    c.add(info['step_coverage'])\n",
    "\n",
    "    print((\"STEP: reward={} done={} \" +\n",
    "            \"step={}/{}/{} total={}/{}/{} \" +\n",
    "            \"sum={}/{}/{} action=[{} : {}]\").format(\n",
    "                reward, done,\n",
    "                info['step_coverage'].skip_path_count(),\n",
    "                info['step_coverage'].transition_count(),\n",
    "                info['step_coverage'].crash_count(),\n",
    "                info['total_coverage'].skip_path_count(),\n",
    "                info['total_coverage'].transition_count(),\n",
    "                info['total_coverage'].crash_count(),\n",
    "                c.skip_path_count(),\n",
    "                c.transition_count(),\n",
    "                c.crash_count(),\n",
    "                action,\n",
    "                info['input_data'],\n",
    "            ))\n",
    "    if done:\n",
    "        env.reset()\n",
    "        print(\"DONE!\")"
   ]
  },
  {
   "cell_type": "code",
   "execution_count": 5,
   "id": "9045e1b8",
   "metadata": {},
   "outputs": [],
   "source": [
    "input_data = b''\n",
    "for i in range(len(seed)):\n",
    "    if int(seed[i]) == env._dict.eof():\n",
    "        break\n",
    "    input_data += env._dict.bytes(int(seed[i]))"
   ]
  }
 ],
 "metadata": {
  "kernelspec": {
   "display_name": "Python 3 (ipykernel)",
   "language": "python",
   "name": "python3"
  },
  "language_info": {
   "codemirror_mode": {
    "name": "ipython",
    "version": 3
   },
   "file_extension": ".py",
   "mimetype": "text/x-python",
   "name": "python",
   "nbconvert_exporter": "python",
   "pygments_lexer": "ipython3",
   "version": "3.7.11"
  }
 },
 "nbformat": 4,
 "nbformat_minor": 5
}
